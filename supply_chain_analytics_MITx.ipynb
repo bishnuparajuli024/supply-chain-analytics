{
  "nbformat": 4,
  "nbformat_minor": 0,
  "metadata": {
    "colab": {
      "provenance": [],
      "authorship_tag": "ABX9TyMaYYGndTC07GVlFrGP0S0j",
      "include_colab_link": true
    },
    "kernelspec": {
      "name": "python3",
      "display_name": "Python 3"
    },
    "language_info": {
      "name": "python"
    }
  },
  "cells": [
    {
      "cell_type": "markdown",
      "metadata": {
        "id": "view-in-github",
        "colab_type": "text"
      },
      "source": [
        "<a href=\"https://colab.research.google.com/github/bishnuparajuli024/supply-chain-analytics/blob/main/supply_chain_analytics_MITx.ipynb\" target=\"_parent\"><img src=\"https://colab.research.google.com/assets/colab-badge.svg\" alt=\"Open In Colab\"/></a>"
      ]
    },
    {
      "cell_type": "markdown",
      "source": [
        "#The following is the introductory section to praction basic python based on the MITx Supply Chain MicroMasters"
      ],
      "metadata": {
        "id": "uqX2-O33xIsl"
      }
    },
    {
      "cell_type": "code",
      "source": [
        "x=8\n",
        "print(x)"
      ],
      "metadata": {
        "colab": {
          "base_uri": "https://localhost:8080/"
        },
        "id": "XKXsxbj8xKTM",
        "outputId": "15f4f2c5-d85e-4816-c406-fb3354975c70"
      },
      "execution_count": null,
      "outputs": [
        {
          "output_type": "stream",
          "name": "stdout",
          "text": [
            "8\n"
          ]
        }
      ]
    },
    {
      "cell_type": "code",
      "source": [
        "x=859\n",
        "y=36\n",
        "z=x+y\n",
        "print(\"initial Value is:\",z)\n",
        "\n",
        "y=159\n",
        "z=x+y\n",
        "print(\"Post change, the value is:\",z)"
      ],
      "metadata": {
        "colab": {
          "base_uri": "https://localhost:8080/"
        },
        "id": "GEszBYnfxPmN",
        "outputId": "35e59a12-5141-4a94-a7b2-e155434cefa9"
      },
      "execution_count": null,
      "outputs": [
        {
          "output_type": "stream",
          "name": "stdout",
          "text": [
            "initial Value is: 895\n",
            "Post change, the value is: 1018\n"
          ]
        }
      ]
    },
    {
      "cell_type": "code",
      "source": [
        "y=159\n",
        "print(z)"
      ],
      "metadata": {
        "colab": {
          "base_uri": "https://localhost:8080/"
        },
        "id": "DrYLGAkCxYrt",
        "outputId": "6aa9ca07-2131-4a1c-ff31-96c9bf0620ee"
      },
      "execution_count": null,
      "outputs": [
        {
          "output_type": "stream",
          "name": "stdout",
          "text": [
            "895\n"
          ]
        }
      ]
    },
    {
      "cell_type": "markdown",
      "source": [
        "Variable Types"
      ],
      "metadata": {
        "id": "9orXrb-qyKFv"
      }
    },
    {
      "cell_type": "code",
      "source": [
        "my_int=5\n",
        "my_float=7.9\n",
        "my_str='Hi There'\n",
        "my_bool=True\n",
        "\n",
        "print(type(my_float))\n",
        "print(type(my_str))"
      ],
      "metadata": {
        "colab": {
          "base_uri": "https://localhost:8080/"
        },
        "id": "jOr7j2YZxp49",
        "outputId": "228bd111-4326-4132-837f-8bb01cc45527"
      },
      "execution_count": null,
      "outputs": [
        {
          "output_type": "stream",
          "name": "stdout",
          "text": [
            "<class 'float'>\n",
            "<class 'str'>\n"
          ]
        }
      ]
    },
    {
      "cell_type": "code",
      "source": [
        "a=my_int+my_float\n",
        "print(a)\n",
        "print(type(a))"
      ],
      "metadata": {
        "colab": {
          "base_uri": "https://localhost:8080/"
        },
        "id": "5-nWJSgsyeQ6",
        "outputId": "f3e165f5-d737-4498-ca21-a660f187dfda"
      },
      "execution_count": null,
      "outputs": [
        {
          "output_type": "stream",
          "name": "stdout",
          "text": [
            "12.9\n",
            "<class 'float'>\n"
          ]
        }
      ]
    },
    {
      "cell_type": "code",
      "source": [
        "print(my_int+my_str)"
      ],
      "metadata": {
        "colab": {
          "base_uri": "https://localhost:8080/",
          "height": 144
        },
        "id": "DYWUB4Roymyr",
        "outputId": "ec6d9da9-7057-4773-8079-62cd6352e297"
      },
      "execution_count": null,
      "outputs": [
        {
          "output_type": "error",
          "ename": "TypeError",
          "evalue": "unsupported operand type(s) for +: 'int' and 'str'",
          "traceback": [
            "\u001b[0;31m---------------------------------------------------------------------------\u001b[0m",
            "\u001b[0;31mTypeError\u001b[0m                                 Traceback (most recent call last)",
            "\u001b[0;32m<ipython-input-12-9d88f9369d4e>\u001b[0m in \u001b[0;36m<cell line: 1>\u001b[0;34m()\u001b[0m\n\u001b[0;32m----> 1\u001b[0;31m \u001b[0mprint\u001b[0m\u001b[0;34m(\u001b[0m\u001b[0mmy_int\u001b[0m\u001b[0;34m+\u001b[0m\u001b[0mmy_str\u001b[0m\u001b[0;34m)\u001b[0m\u001b[0;34m\u001b[0m\u001b[0;34m\u001b[0m\u001b[0m\n\u001b[0m",
            "\u001b[0;31mTypeError\u001b[0m: unsupported operand type(s) for +: 'int' and 'str'"
          ]
        }
      ]
    },
    {
      "cell_type": "markdown",
      "source": [
        "Printing"
      ],
      "metadata": {
        "id": "LbEU5hA3y5_W"
      }
    },
    {
      "cell_type": "code",
      "source": [
        "y=7\n",
        "y"
      ],
      "metadata": {
        "colab": {
          "base_uri": "https://localhost:8080/"
        },
        "id": "ZUq6FRMoy84G",
        "outputId": "9e3375c1-b39d-40aa-966d-f09dcff0169b"
      },
      "execution_count": null,
      "outputs": [
        {
          "output_type": "execute_result",
          "data": {
            "text/plain": [
              "7"
            ]
          },
          "metadata": {},
          "execution_count": 13
        }
      ]
    },
    {
      "cell_type": "code",
      "source": [
        "y\n",
        "z=2\n",
        "#please note, it does not print y because it is not the last command"
      ],
      "metadata": {
        "id": "8H37lN7HzE5M"
      },
      "execution_count": null,
      "outputs": []
    },
    {
      "cell_type": "code",
      "source": [
        "print(y)\n",
        "z=2"
      ],
      "metadata": {
        "colab": {
          "base_uri": "https://localhost:8080/"
        },
        "id": "GHLdakz5zHBP",
        "outputId": "83084293-3308-4d09-abf3-1ec139f52cf8"
      },
      "execution_count": null,
      "outputs": [
        {
          "output_type": "stream",
          "name": "stdout",
          "text": [
            "7\n"
          ]
        }
      ]
    },
    {
      "cell_type": "code",
      "source": [
        "x=10\n",
        "print(x*29)"
      ],
      "metadata": {
        "colab": {
          "base_uri": "https://localhost:8080/"
        },
        "id": "CRgS57DlzNAu",
        "outputId": "7686df5d-8317-4062-a7bb-5db1be4fca62"
      },
      "execution_count": null,
      "outputs": [
        {
          "output_type": "stream",
          "name": "stdout",
          "text": [
            "290\n"
          ]
        }
      ]
    },
    {
      "cell_type": "code",
      "source": [
        "x='abc'\n",
        "y=\"def\"\n",
        "z=\"\"\"\n",
        "\n",
        "ghi\n",
        "\n",
        "\"\"\"\n",
        "q='''\n",
        "\n",
        "jkl\n",
        "\n",
        "'''\n",
        "print(x)\n",
        "print(y)\n",
        "print(z)\n",
        "print(q)"
      ],
      "metadata": {
        "colab": {
          "base_uri": "https://localhost:8080/"
        },
        "id": "bwt8kfqAzUM-",
        "outputId": "3238482e-8106-46bc-ed71-6917f9889623"
      },
      "execution_count": null,
      "outputs": [
        {
          "output_type": "stream",
          "name": "stdout",
          "text": [
            "abc\n",
            "def\n",
            "\n",
            "\n",
            "ghi\n",
            "\n",
            "\n",
            "\n",
            "\n",
            "jkl\n",
            "\n",
            "\n"
          ]
        }
      ]
    },
    {
      "cell_type": "code",
      "source": [
        "x=\"She said \\'hi'\"\n",
        "print(x)"
      ],
      "metadata": {
        "colab": {
          "base_uri": "https://localhost:8080/"
        },
        "id": "xX0V4LYi0ztm",
        "outputId": "3d4125e5-3cb7-4a28-835d-cc2e81d1c422"
      },
      "execution_count": null,
      "outputs": [
        {
          "output_type": "stream",
          "name": "stdout",
          "text": [
            "She said 'hi'\n"
          ]
        }
      ]
    },
    {
      "cell_type": "code",
      "source": [
        "print(\"Hello\"+' '+'World!')"
      ],
      "metadata": {
        "colab": {
          "base_uri": "https://localhost:8080/"
        },
        "id": "pv4Ha2V11Vuw",
        "outputId": "b4b0b0e6-7a9d-4f7e-c395-cebc81de01da"
      },
      "execution_count": null,
      "outputs": [
        {
          "output_type": "stream",
          "name": "stdout",
          "text": [
            "Hello World!\n"
          ]
        }
      ]
    },
    {
      "cell_type": "code",
      "source": [
        "print(\"Hello {answer}!\".format(answer=\"World\"))"
      ],
      "metadata": {
        "colab": {
          "base_uri": "https://localhost:8080/"
        },
        "id": "ongc6fbC1wBC",
        "outputId": "f875d486-43e4-4bf1-fa30-7d957fceb8d5"
      },
      "execution_count": null,
      "outputs": [
        {
          "output_type": "stream",
          "name": "stdout",
          "text": [
            "Hello World!\n"
          ]
        }
      ]
    },
    {
      "cell_type": "code",
      "source": [
        "print(\"Hello %s!\" % 'World')"
      ],
      "metadata": {
        "colab": {
          "base_uri": "https://localhost:8080/"
        },
        "id": "f5ok4Of_1x-C",
        "outputId": "1c46bd4e-92dd-4253-e8e1-04bb1ab94f9c"
      },
      "execution_count": null,
      "outputs": [
        {
          "output_type": "stream",
          "name": "stdout",
          "text": [
            "Hello World!\n"
          ]
        }
      ]
    },
    {
      "cell_type": "code",
      "source": [
        "print(5+3)"
      ],
      "metadata": {
        "colab": {
          "base_uri": "https://localhost:8080/"
        },
        "id": "qI_baqOG114f",
        "outputId": "70d2d538-be14-4b3c-d007-81dce8643c22"
      },
      "execution_count": null,
      "outputs": [
        {
          "output_type": "stream",
          "name": "stdout",
          "text": [
            "8\n"
          ]
        }
      ]
    },
    {
      "cell_type": "code",
      "source": [
        "print('5+3')\n",
        "print(5**3)\n",
        "print('5+3: ',5+3)"
      ],
      "metadata": {
        "colab": {
          "base_uri": "https://localhost:8080/"
        },
        "id": "4ZA7nB3h3UU7",
        "outputId": "6ba7b400-e9a1-41c9-efb3-950742097702"
      },
      "execution_count": null,
      "outputs": [
        {
          "output_type": "stream",
          "name": "stdout",
          "text": [
            "5+3\n",
            "125\n",
            "5+3:  8\n"
          ]
        }
      ]
    },
    {
      "cell_type": "code",
      "source": [
        "y={1,2,3}\n",
        "z={4,5,6}\n",
        "print(y+z)"
      ],
      "metadata": {
        "colab": {
          "base_uri": "https://localhost:8080/",
          "height": 180
        },
        "id": "J3kuxbps3XP7",
        "outputId": "94c7001f-387c-4137-a153-2cd3606858d2"
      },
      "execution_count": 1,
      "outputs": [
        {
          "output_type": "error",
          "ename": "TypeError",
          "evalue": "unsupported operand type(s) for +: 'set' and 'set'",
          "traceback": [
            "\u001b[0;31m---------------------------------------------------------------------------\u001b[0m",
            "\u001b[0;31mTypeError\u001b[0m                                 Traceback (most recent call last)",
            "\u001b[0;32m<ipython-input-1-8935a00aad6c>\u001b[0m in \u001b[0;36m<cell line: 3>\u001b[0;34m()\u001b[0m\n\u001b[1;32m      1\u001b[0m \u001b[0my\u001b[0m\u001b[0;34m=\u001b[0m\u001b[0;34m{\u001b[0m\u001b[0;36m1\u001b[0m\u001b[0;34m,\u001b[0m\u001b[0;36m2\u001b[0m\u001b[0;34m,\u001b[0m\u001b[0;36m3\u001b[0m\u001b[0;34m}\u001b[0m\u001b[0;34m\u001b[0m\u001b[0;34m\u001b[0m\u001b[0m\n\u001b[1;32m      2\u001b[0m \u001b[0mz\u001b[0m\u001b[0;34m=\u001b[0m\u001b[0;34m{\u001b[0m\u001b[0;36m4\u001b[0m\u001b[0;34m,\u001b[0m\u001b[0;36m5\u001b[0m\u001b[0;34m,\u001b[0m\u001b[0;36m6\u001b[0m\u001b[0;34m}\u001b[0m\u001b[0;34m\u001b[0m\u001b[0;34m\u001b[0m\u001b[0m\n\u001b[0;32m----> 3\u001b[0;31m \u001b[0mprint\u001b[0m\u001b[0;34m(\u001b[0m\u001b[0my\u001b[0m\u001b[0;34m+\u001b[0m\u001b[0mz\u001b[0m\u001b[0;34m)\u001b[0m\u001b[0;34m\u001b[0m\u001b[0;34m\u001b[0m\u001b[0m\n\u001b[0m",
            "\u001b[0;31mTypeError\u001b[0m: unsupported operand type(s) for +: 'set' and 'set'"
          ]
        }
      ]
    },
    {
      "cell_type": "code",
      "source": [
        "y=[1,2,3]\n",
        "z=[4,5,6]\n",
        "print(y+z)"
      ],
      "metadata": {
        "colab": {
          "base_uri": "https://localhost:8080/"
        },
        "id": "JYwpaT8CjB9a",
        "outputId": "732cb47a-5e78-44a2-8b24-0a2e12adf16a"
      },
      "execution_count": null,
      "outputs": [
        {
          "output_type": "stream",
          "name": "stdout",
          "text": [
            "[1, 2, 3, 4, 5, 6]\n"
          ]
        }
      ]
    },
    {
      "cell_type": "code",
      "source": [
        "y=1,2,3\n",
        "z=4,5,6\n",
        "print[y+z]"
      ],
      "metadata": {
        "colab": {
          "base_uri": "https://localhost:8080/",
          "height": 180
        },
        "id": "CsJyvzfIjGJX",
        "outputId": "935f6977-bf20-43fb-f6fc-10a02d7a223c"
      },
      "execution_count": null,
      "outputs": [
        {
          "output_type": "error",
          "ename": "TypeError",
          "evalue": "'builtin_function_or_method' object is not subscriptable",
          "traceback": [
            "\u001b[0;31m---------------------------------------------------------------------------\u001b[0m",
            "\u001b[0;31mTypeError\u001b[0m                                 Traceback (most recent call last)",
            "\u001b[0;32m<ipython-input-3-563f149b4e5f>\u001b[0m in \u001b[0;36m<cell line: 3>\u001b[0;34m()\u001b[0m\n\u001b[1;32m      1\u001b[0m \u001b[0my\u001b[0m\u001b[0;34m=\u001b[0m\u001b[0;36m1\u001b[0m\u001b[0;34m,\u001b[0m\u001b[0;36m2\u001b[0m\u001b[0;34m,\u001b[0m\u001b[0;36m3\u001b[0m\u001b[0;34m\u001b[0m\u001b[0;34m\u001b[0m\u001b[0m\n\u001b[1;32m      2\u001b[0m \u001b[0mz\u001b[0m\u001b[0;34m=\u001b[0m\u001b[0;36m4\u001b[0m\u001b[0;34m,\u001b[0m\u001b[0;36m5\u001b[0m\u001b[0;34m,\u001b[0m\u001b[0;36m6\u001b[0m\u001b[0;34m\u001b[0m\u001b[0;34m\u001b[0m\u001b[0m\n\u001b[0;32m----> 3\u001b[0;31m \u001b[0mprint\u001b[0m\u001b[0;34m[\u001b[0m\u001b[0my\u001b[0m\u001b[0;34m+\u001b[0m\u001b[0mz\u001b[0m\u001b[0;34m]\u001b[0m\u001b[0;34m\u001b[0m\u001b[0;34m\u001b[0m\u001b[0m\n\u001b[0m",
            "\u001b[0;31mTypeError\u001b[0m: 'builtin_function_or_method' object is not subscriptable"
          ]
        }
      ]
    },
    {
      "cell_type": "code",
      "source": [
        "z=[8,12,2,9,7]\n",
        "for i in z:\n",
        "\n",
        "     y=i+1\n",
        "\n",
        "     print(y)"
      ],
      "metadata": {
        "colab": {
          "base_uri": "https://localhost:8080/"
        },
        "id": "j9gL7NoRjHy1",
        "outputId": "2b930f49-6c6e-487a-9eed-819c2cc8e3ca"
      },
      "execution_count": null,
      "outputs": [
        {
          "output_type": "stream",
          "name": "stdout",
          "text": [
            "9\n",
            "13\n",
            "3\n",
            "10\n",
            "8\n"
          ]
        }
      ]
    },
    {
      "cell_type": "code",
      "source": [
        "# Notice how the default value of y is 2\n",
        "# If not provided when the function is called, y will be 2.\n",
        "def multiply(x, y=2):\n",
        "    return x*y\n",
        "multiply(3)"
      ],
      "metadata": {
        "colab": {
          "base_uri": "https://localhost:8080/"
        },
        "id": "d1kN1bPIklA9",
        "outputId": "4ff65db1-782a-438b-ef39-3beabfaf06d5"
      },
      "execution_count": null,
      "outputs": [
        {
          "output_type": "execute_result",
          "data": {
            "text/plain": [
              "6"
            ]
          },
          "metadata": {},
          "execution_count": 2
        }
      ]
    },
    {
      "cell_type": "code",
      "source": [
        "multiply(3,4)"
      ],
      "metadata": {
        "colab": {
          "base_uri": "https://localhost:8080/",
          "height": 180
        },
        "id": "T0Un7JsSlDha",
        "outputId": "7bfd9c85-6c18-4f8b-96f0-cebc05c66794"
      },
      "execution_count": null,
      "outputs": [
        {
          "output_type": "error",
          "ename": "NameError",
          "evalue": "name 'multiply' is not defined",
          "traceback": [
            "\u001b[0;31m---------------------------------------------------------------------------\u001b[0m",
            "\u001b[0;31mNameError\u001b[0m                                 Traceback (most recent call last)",
            "\u001b[0;32m<ipython-input-1-f9518dfd2f93>\u001b[0m in \u001b[0;36m<cell line: 1>\u001b[0;34m()\u001b[0m\n\u001b[0;32m----> 1\u001b[0;31m \u001b[0mmultiply\u001b[0m\u001b[0;34m(\u001b[0m\u001b[0;36m3\u001b[0m\u001b[0;34m,\u001b[0m\u001b[0;36m4\u001b[0m\u001b[0;34m)\u001b[0m\u001b[0;34m\u001b[0m\u001b[0;34m\u001b[0m\u001b[0m\n\u001b[0m",
            "\u001b[0;31mNameError\u001b[0m: name 'multiply' is not defined"
          ]
        }
      ]
    },
    {
      "cell_type": "code",
      "source": [],
      "metadata": {
        "colab": {
          "base_uri": "https://localhost:8080/",
          "height": 108
        },
        "id": "R3edu0jalhDg",
        "outputId": "8114a1a8-3f32-4300-b521-665d25518be0"
      },
      "execution_count": null,
      "outputs": [
        {
          "output_type": "error",
          "ename": "SyntaxError",
          "evalue": "invalid syntax (<ipython-input-13-4e7c0351ee3f>, line 1)",
          "traceback": [
            "\u001b[0;36m  File \u001b[0;32m\"<ipython-input-13-4e7c0351ee3f>\"\u001b[0;36m, line \u001b[0;32m1\u001b[0m\n\u001b[0;31m    pip install scx\u001b[0m\n\u001b[0m        ^\u001b[0m\n\u001b[0;31mSyntaxError\u001b[0m\u001b[0;31m:\u001b[0m invalid syntax\n"
          ]
        }
      ]
    },
    {
      "cell_type": "code",
      "source": [
        "import numpy as np\n",
        "from scipy import optimize as sp\n",
        "import autograd"
      ],
      "metadata": {
        "id": "McdDc3wgHZfU"
      },
      "execution_count": 2,
      "outputs": []
    },
    {
      "cell_type": "code",
      "source": [
        "# example for numpy arrary\n",
        "array0 = np.array([1,2,3,4])\n",
        "array1 = np.array([3,2,0,0])\n",
        "\n",
        "myList = []\n",
        "myList.append(array0)\n",
        "myList.append(array1)\n",
        "print(myList)\n",
        "\n",
        "# very important: Python is 0-indexed\n",
        "print(myList[1])\n",
        "\n",
        "Matrix = np.array([[1, 2], [3, 4]])\n",
        "Vector = np.array([1, 2])\n",
        "\n",
        "# matrix-vector product\n",
        "sol = np.dot(Matrix, Vector)\n",
        "\n",
        "print(sol)"
      ],
      "metadata": {
        "colab": {
          "base_uri": "https://localhost:8080/"
        },
        "id": "FlChSJL6Hfd8",
        "outputId": "a6c863dc-6e0b-452a-9050-c5b094b851e8"
      },
      "execution_count": 3,
      "outputs": [
        {
          "output_type": "stream",
          "name": "stdout",
          "text": [
            "[array([1, 2, 3, 4]), array([3, 2, 0, 0])]\n",
            "[3 2 0 0]\n",
            "[ 5 11]\n"
          ]
        }
      ]
    },
    {
      "cell_type": "code",
      "source": [
        "# this function is called 'myFunction'\n",
        "# it takes one input, x\n",
        "# and returns y and z\n",
        "def myFunction(x):\n",
        "    y = x ** 2 - 2\n",
        "    z = y + 2\n",
        "    return y, z"
      ],
      "metadata": {
        "id": "uWwx6CLbHiHJ"
      },
      "execution_count": 4,
      "outputs": []
    },
    {
      "cell_type": "code",
      "source": [
        "x = 2\n",
        "\n",
        "# function call\n",
        "myY, myZ = myFunction(x)\n",
        "\n",
        "print(\"{:.2f}, {:.2f}\".format(myY, myZ))"
      ],
      "metadata": {
        "colab": {
          "base_uri": "https://localhost:8080/"
        },
        "id": "YRzHOVUqHnwD",
        "outputId": "7eb9d861-680d-459a-ddd1-65eea9c9c401"
      },
      "execution_count": 5,
      "outputs": [
        {
          "output_type": "stream",
          "name": "stdout",
          "text": [
            "2.00, 4.00\n"
          ]
        }
      ]
    },
    {
      "cell_type": "code",
      "source": [
        "def parametricFunction(x, p):\n",
        "    y = p*x ** 2\n",
        "    return y"
      ],
      "metadata": {
        "id": "v_5cR23kHppJ"
      },
      "execution_count": 6,
      "outputs": []
    },
    {
      "cell_type": "code",
      "source": [
        "myY = parametricFunction(2, 4.5)\n",
        "print(myY)"
      ],
      "metadata": {
        "colab": {
          "base_uri": "https://localhost:8080/"
        },
        "id": "Nr63f1v-Hrri",
        "outputId": "db53669f-82c9-4a38-9c3b-de125afc4a0d"
      },
      "execution_count": 7,
      "outputs": [
        {
          "output_type": "stream",
          "name": "stdout",
          "text": [
            "18.0\n"
          ]
        }
      ]
    },
    {
      "cell_type": "code",
      "source": [
        "# example for numpy arrary\n",
        "array0 = np.array([1,2,3,4])\n",
        "array1 = np.array([3,2,0,0])\n",
        "\n",
        "myList = []\n",
        "myList.append(array0)\n",
        "myList.append(array1)\n",
        "print(myList)\n",
        "\n",
        "# very important: Python is 0-indexed\n",
        "print(myList[1])\n",
        "\n",
        "Matrix = np.array([[1, 2], [3, 4]])\n",
        "Vector = np.array([1, 2])\n",
        "\n",
        "# matrix-vector product\n",
        "sol = np.dot(Matrix, Vector)\n",
        "\n",
        "print(sol)"
      ],
      "metadata": {
        "colab": {
          "base_uri": "https://localhost:8080/"
        },
        "id": "qpy_PU0vHt0j",
        "outputId": "1369719d-041c-4c67-9bf4-4b138bffac08"
      },
      "execution_count": 8,
      "outputs": [
        {
          "output_type": "stream",
          "name": "stdout",
          "text": [
            "[array([1, 2, 3, 4]), array([3, 2, 0, 0])]\n",
            "[3 2 0 0]\n",
            "[ 5 11]\n"
          ]
        }
      ]
    },
    {
      "cell_type": "code",
      "source": [
        "#Gradients and Hessians"
      ],
      "metadata": {
        "id": "7OzT5pP1IFLI"
      },
      "execution_count": 9,
      "outputs": []
    },
    {
      "cell_type": "code",
      "source": [
        "def line(x):\n",
        "    y = 5*x + 10\n",
        "    return y"
      ],
      "metadata": {
        "id": "bs9XfHggIMGR"
      },
      "execution_count": 10,
      "outputs": []
    },
    {
      "cell_type": "code",
      "source": [
        "x0 = 1.0\n",
        "# slope of a line\n",
        "print(autograd.grad(line)(x0))"
      ],
      "metadata": {
        "colab": {
          "base_uri": "https://localhost:8080/"
        },
        "id": "BNQV3jbnIMbj",
        "outputId": "da4ee79d-7aaf-43eb-e7c5-9a476f0a75d0"
      },
      "execution_count": 11,
      "outputs": [
        {
          "output_type": "stream",
          "name": "stdout",
          "text": [
            "5.0\n"
          ]
        }
      ]
    },
    {
      "cell_type": "code",
      "source": [
        "# note, here the input is a vector\n",
        "def plane(x):\n",
        "    z = 5*x[0] + 10*x[1] + 4\n",
        "    return z"
      ],
      "metadata": {
        "id": "q6Wp0VREIOPJ"
      },
      "execution_count": 12,
      "outputs": []
    },
    {
      "cell_type": "code",
      "source": [
        "x0 = np.array([1.0,2.0])\n",
        "# gradient of a plane\n",
        "print(autograd.grad(plane)(x0))"
      ],
      "metadata": {
        "id": "UbIkctyjIQJT",
        "outputId": "f39411e0-e6c5-4271-93e0-cf2636854700",
        "colab": {
          "base_uri": "https://localhost:8080/"
        }
      },
      "execution_count": 13,
      "outputs": [
        {
          "output_type": "stream",
          "name": "stdout",
          "text": [
            "[ 5. 10.]\n"
          ]
        }
      ]
    },
    {
      "cell_type": "code",
      "source": [
        "# first component of gradient: partial derivative\n",
        "# simply refer using index 0\n",
        "print(autograd.grad(plane)(x0)[0])"
      ],
      "metadata": {
        "id": "ViF--_MLIRt_",
        "outputId": "24cc9208-01e0-4b89-b290-63cb373e52bc",
        "colab": {
          "base_uri": "https://localhost:8080/"
        }
      },
      "execution_count": 14,
      "outputs": [
        {
          "output_type": "stream",
          "name": "stdout",
          "text": [
            "5.0\n"
          ]
        }
      ]
    },
    {
      "cell_type": "code",
      "source": [],
      "metadata": {
        "id": "UVYxwRGBIThC"
      },
      "execution_count": null,
      "outputs": []
    }
  ]
}