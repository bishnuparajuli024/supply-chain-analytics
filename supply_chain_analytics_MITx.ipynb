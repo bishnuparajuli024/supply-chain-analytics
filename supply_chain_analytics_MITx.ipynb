{
  "nbformat": 4,
  "nbformat_minor": 0,
  "metadata": {
    "colab": {
      "provenance": [],
      "authorship_tag": "ABX9TyNc2kbSQBnsslmNVzregEXD",
      "include_colab_link": true
    },
    "kernelspec": {
      "name": "python3",
      "display_name": "Python 3"
    },
    "language_info": {
      "name": "python"
    }
  },
  "cells": [
    {
      "cell_type": "markdown",
      "metadata": {
        "id": "view-in-github",
        "colab_type": "text"
      },
      "source": [
        "<a href=\"https://colab.research.google.com/github/bishnuparajuli024/supply-chain-analytics/blob/main/supply_chain_analytics_MITx.ipynb\" target=\"_parent\"><img src=\"https://colab.research.google.com/assets/colab-badge.svg\" alt=\"Open In Colab\"/></a>"
      ]
    },
    {
      "cell_type": "code",
      "execution_count": 1,
      "metadata": {
        "id": "9dNf5unLwhzl"
      },
      "outputs": [],
      "source": [
        "#The following is the introductory section to praction basic python based on the MITx Supply Chain MicroMasters"
      ]
    }
  ]
}